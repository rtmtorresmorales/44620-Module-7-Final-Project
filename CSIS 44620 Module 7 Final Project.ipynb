{
 "cells": [
  {
   "cell_type": "code",
   "execution_count": null,
   "id": "9222399a",
   "metadata": {},
   "outputs": [],
   "source": [
    "## CSIS 44620 Web Mining and Applied Natural Language Processing\n",
    "## homework for Module 7  Final Project for Bonus\n",
    "## Presented by Ramon Torres\n",
    "## DEC 7, 2022\n",
    "## https://github.com/rtmtorresmorales/44620-Module-7-Final-Project"
   ]
  },
  {
   "cell_type": "code",
   "execution_count": 29,
   "id": "4c5302bd",
   "metadata": {},
   "outputs": [
    {
     "name": "stdout",
     "output_type": "stream",
     "text": [
      "200\n",
      "text/html; charset=UTF-8\n",
      "h1 header: <h1 class=\"site-title\">\n",
      "<a href=\"https://web.archive.org/web/20210326110857/https://hackaday.com/\" rel=\"home\">Hackaday</a>\n",
      "</h1>\n",
      "h1 text: \n",
      "Hackaday\n",
      "\n",
      "h1 header: <h1 class=\"entry-title\" itemprop=\"name\">Hey Google, Is My Heart Still Beating?</h1>\n",
      "h1 text: Hey Google, Is My Heart Still Beating?\n",
      "h1 header: <h1 class=\"screen-reader-text\">Post navigation</h1>\n",
      "h1 text: Post navigation\n",
      "h1 header: <h1 class=\"widget-title\">Search</h1>\n",
      "h1 text: Search\n",
      "h1 header: <h1 class=\"widget-title\">Never miss a hack</h1>\n",
      "h1 text: Never miss a hack\n",
      "h1 header: <h1 class=\"widget-title\">Subscribe</h1>\n",
      "h1 text: Subscribe\n",
      "h1 header: <h1 class=\"widget-title\">If you missed it</h1>\n",
      "h1 text: If you missed it\n",
      "h1 header: <h1 class=\"widget-title\">Our Columns</h1>\n",
      "h1 text: Our Columns\n",
      "h1 header: <h1 class=\"widget-title\">Search</h1>\n",
      "h1 text: Search\n",
      "h1 header: <h1 class=\"widget-title\">Never miss a hack</h1>\n",
      "h1 text: Never miss a hack\n",
      "h1 header: <h1 class=\"widget-title\">Subscribe</h1>\n",
      "h1 text: Subscribe\n",
      "h1 header: <h1 class=\"widget-title\">If you missed it</h1>\n",
      "h1 text: If you missed it\n",
      "h1 header: <h1 class=\"widget-title\">Categories</h1>\n",
      "h1 text: Categories\n",
      "h1 header: <h1 class=\"widget-title\">Our Columns</h1>\n",
      "h1 text: Our Columns\n",
      "h1 header: <h1 class=\"widget-title\">Recent comments</h1>\n",
      "h1 text: Recent comments\n",
      "h1 header: <h1 class=\"widget-title\">Now on Hackaday.io</h1>\n",
      "h1 text: Now on Hackaday.io\n",
      "h1 header: <h1 class=\"footer-widget-title\">Never miss a hack</h1>\n",
      "h1 text: Never miss a hack\n",
      "h1 header: <h1 class=\"footer-widget-title\">Subscribe to Newsletter</h1>\n",
      "h1 text: Subscribe to Newsletter\n"
     ]
    }
   ],
   "source": [
    "# 1 Code to extract article, orginial article was discarded because text was not available.  \n",
    "import requests\n",
    "from bs4 import BeautifulSoup\n",
    "import pickle\n",
    "import requests\n",
    "import matplotlib.pyplot as plt\n",
    "import numpy as np\n",
    "from matplotlib import colors\n",
    "from matplotlib.ticker import PercentFormatter\n",
    "import spacy\n",
    "from spacytextblob.spacytextblob import SpacyTextBlob\n",
    "\n",
    "from bs4 import BeautifulSoup\n",
    "response = requests.get('https://web.archive.org/web/20210326110857/https://hackaday.com/2021/03/23/hey-google-is-my-heart-still-beating/')\n",
    "print(response.status_code)\n",
    "print(response.headers['content-type'])\n",
    "parser = 'html.parser'\n",
    "soup = BeautifulSoup(response.text, parser)\n",
    "article_page = requests.get('https://web.archive.org/web/20210326110857/https://hackaday.com/2021/03/23/hey-google-is-my-heart-still-beating/')\n",
    "article_html = article_page.text\n",
    "\n",
    "with open('python-match.pkl', 'wb') as f:\n",
    "    pickle.dump(article_page.text, f)\n",
    "\n",
    "for header in soup.findAll('h1'):\n",
    "    print('h1 header:', header)\n",
    "    print('h1 text:', header.text)"
   ]
  },
  {
   "cell_type": "code",
   "execution_count": 44,
   "id": "798738e7",
   "metadata": {},
   "outputs": [
    {
     "name": "stdout",
     "output_type": "stream",
     "text": [
      "\n",
      "\n",
      "Hey Google, Is My Heart Still Beating?\n",
      "\n",
      "\n",
      "                17 Comments            \n",
      "\n",
      "by:\n",
      "Tom Nardi\n",
      "\n",
      "\n",
      "\n",
      "March 23, 2021\n",
      "\n",
      "\n",
      "\n",
      "\n",
      "\n",
      "\n",
      "\n",
      "\n",
      "University of Washington researchers studying the potential medical use of smart speakers such as Amazon’s Echo and Google’s Nest have recently released a paper detailing their experiments with non-contact acoustic heartbeat detection. Thanks to their sensitive microphone arrays, normally used to help localize voice commands from the user, the team proposes these affordable and increasingly popular smart home gadgets could lead a double life as unobtrusive life sign monitors. The paper goes so far as to say that even with multiple people in the room, their technique can be used to monitor the heart and respiratory rate of a specific target individual.\n",
      "Those are some bold claims, but they aren’t without precedent. Previous studies performed at UW in 2019 demonstrated how smart speaker technology could be used to detect cardiac arrest and monitor infant breathing. This latest paper could be seen as the culmination of those earlier experiments: a single piece of software that could not just monitor the vitals of nearby patients, but actually detect a medical emergency. The lifesaving potential of such a program, especially for the very young and elderly, would be incredible.\n",
      "So when will you be able to install a heart monitor skill on the cheap Echo Dot you picked up on Prime Day? Well, as is often the case with this kind of research, putting the technique to work in the real-world isn’t nearly as easy as in the laboratory. While the concept is promising and is more than worthy of further research, it may be some time before our lowly smart speakers are capable of Star Trek style life-sign detection.\n",
      "\n",
      "Can You Hear Me Now?\n",
      "The researchers explain in the paper that their work is built on earlier experiments that used powerful ultrasound transducers to detect minute displacements of a patient’s chest, abdomen, and neck. Relatively large motions are the result of normal breathing action, while smaller sub-millimeter deflections correspond to the individual’s heartbeat. While this research showed it was possible to detect vital signs acoustically from a distance, the paper says the ultrasound transmissions used were of a frequency and intensity not achievable by the consumer smart speaker hardware they were investigating.\n",
      "In fact, the paper explains that standard smart speakers are not particularly well suited to ultrasonic transmission or reception in the first place, as they have naturally been designed to prioritize human speech and music. That said, the researchers reference the fact that Google’s Nest already uses ultrasonic range finding to adjust visual elements such as font size. Determining how far a viewer is standing from the screen is a far cry from picking up 0.5 mm vibrations in their carotid artery, but it’s a start.\n",
      "The team’s sonar implementation was designed around the inherent limitations of smart speaker hardware, and generates a 50 ms frequency modulated continuous wave (FMCW) chirp between 18 kHz and 22 kHz. This allows the software to not only calculate a very precise distance to a stationary target, but ignore any echos that are returned beyond a predefined range.\n",
      "Even still, the wavelength of sound at these frequencies is far larger than some of motions the software is looking for. With a bodily deflection of just 0.3 mm to 0.8 mm, individual heartbeats are particularly difficult to detect. Several layers of filters are applied to try and improve the signal-to-noise ratio, and adaptive beamforming allows the speakers to zero in on the target.\n",
      "The paper concludes while that the resulting pulse data is not as accurate as the traditional electrocardiogram (ECG) readings being used as a control, it was close enough to be a useful diagnostic tool for both healthy patients and those suffering from various cardiac abnormalities. Especially when taking into account the advantages offered by the non-contact approach, particularly for telemedicine applications.\n",
      "Ideal Conditions\n",
      "While the researchers were able to pull some impressive data with their test setup, it should be said that there are several caveats which (at least for now) would make it difficult to put this technique into practice. For one thing, the smart speaker needs to be aimed at the patient’s chest and placed at a distance of 40 cm to 60 cm (15 in to 23 in). Accuracy drops off with distance, and at least in this version of the software, any returns beyond one meter are considered background noise and are ignored entirely.\n",
      "Ideal placement for the smart speaker.\n",
      "This is obviously at odds with normal smart speaker placement. Even if the speaker was close enough to the patient, say on a table next to a bed or chair, it’s normally going to be pointed up towards the ceiling. While testing did show the software was able to function when the patient was off to the left or right side, the error rate increased considerably.\n",
      "To be useful, the device would likely need to be placed in a custom mount that would keep it in the ideal position while measurements were being taken. This isn’t a huge burden, and the cost would largely be negligible, but it does speak to the relative inflexibility of this approach.\n",
      "Interestingly, the tests showed that the clothing worn by the patient had only a slight impact on the acoustic readings. While tight fitting garments produced the best results, even loose blouses and hospital gowns didn’t prevent the system from collecting useful data. Thick fabrics or multiple layers of clothing did attenuate the signal however, which could potentially be a problem depending on climate.\n",
      "Similarly the paper found that the system couldn’t reliably extract a cardiac rhythm from extremely obese patients, as the excess tissue dampened the underlying bodily motion. Accordingly, patients with a body mass index (BMI) of 35 or higher were excluded from the primary test group. The software was separately evaluated with a group of five individuals who had a median BMI of 38.6, and of those, it was only able to detect the heart rate of one participant. The paper notes that this falls in line with the findings of previous experiments, and notes that obese patients simply aren’t good candidates for non-contact sensing technology at this time.\n",
      "Breaking into The Walled Garden\n",
      "Issues with speaker placement and the type of clothing the patient is wearing are, in the grand scheme of things, fairly minimal. Some refinement is obviously necessary, and clearly it won’t be as simple as just installing a piece of software on your Amazon Echo and getting the baby’s heart rate displayed on your phone without some special considerations being made, but all the pieces seem to be in place for somebody to run with the idea. Unfortunately, despite such promising research, bringing this capability to consumer smart speakers simply isn’t possible right now.\n",
      "While the paper makes extensive references to these commercial devices, and uses their hardware capabilities as a limiting factor in all of their experiments, the researchers admit the software they’ve developed can’t actually be used on any currently available product from the likes of Google or Amazon. The simple fact is that the APIs available to developers don’t provide the low-level hardware access required to implement their sonar technique. Giving third party applications direct control over the speaker and microphones would raise obvious security concerns, so this type of functionality would either need to be built into the system from the start by the manufacturer, or potentially be relegated to specifically provisioned units intended for healthcare providers.\n",
      "Taking The Long Way Around\n",
      "Even if bureaucratic concerns keep the team’s software off of commercially available smart speakers, the research they’ve conducted is still extremely valuable. The possibilities offered by an affordable, automated method of taking a patient’s vitals without physical contact are undeniably compelling, especially with the lingering threat of COVID-19. Technology that can help monitor and diagnose potentially contagious patients without risking exposure to the nurses and physicians attending to them is in high demand, and will continue to be of great interest even when this current crisis is behind us.\n",
      "miniDSP UMA-8-S\n",
      "If commercial smart speakers aren’t a viable platform for this software, what then? Well for one thing, you could simply build your own hardware. As outlined at the end of the paper, all of the experiments were performed with a UMA-8-S seven microphone array from miniDSP and a PUI Audio AS05308AS-R speaker connected to desktop computer. The UMA-8-S is something of a development kit itself, and includes onboard digital signal processor (DSP) with beamforming capability. Marketed towards both professional and DIY users, it looks to be a particularly interesting device in its own right.\n",
      "The team says the Python source code for their project is also available upon request, so long as you agree to a non-commercial license. Put simply, everything needed to recreate this project is readily available for anyone who wants it. Whether it becomes an area of exploration for biohackers or gets refined and marketed by a some tech entrepreneur, it seems inevitable that this technology will bubble its way to the surface in the coming years.\n",
      "\n",
      "\n",
      "\n",
      "\n",
      " \n",
      "\n",
      "\n",
      "\n",
      "\n",
      "\n",
      "\n",
      "\n",
      "\n",
      "\n",
      "\n",
      "\n",
      "\n",
      "\n",
      "\n",
      "\n",
      "\n",
      "\n",
      "\n",
      "\n",
      "Posted in Engineering, Featured, Interest, Medical Hacks, Original Art, SliderTagged active sonar, medical sensors, microphone array, smart speaker, ultrasonic, whitepaper \n",
      "\n",
      "Polarity:  0.145060077285352\n",
      "Subjectivity:  0.5142893370365899\n"
     ]
    }
   ],
   "source": [
    "#2  Read and print article and polarity\n",
    "with open('python-match.pkl', 'rb') as f:\n",
    "    article_html = pickle.load(f)\n",
    "\n",
    "parser = 'html.parser'\n",
    "soup = BeautifulSoup(article_html, parser)\n",
    "article_element = soup.find('article')\n",
    "print(article_element.get_text())\n",
    "\n",
    "nlp = spacy.load('en_core_web_sm')\n",
    "nlp.add_pipe('spacytextblob')\n",
    "doc = nlp(article_element.get_text())\n",
    "#docx = nlp(poem)\n",
    "print ('Polarity: ', doc._.polarity)\n",
    "# For added bonus print subjectivity\n",
    "print ('Subjectivity: ', doc._.subjectivity)\n"
   ]
  },
  {
   "cell_type": "code",
   "execution_count": null,
   "id": "3e668841",
   "metadata": {},
   "outputs": [],
   "source": [
    "# Polarity with .145 shows a timid positive sentiment, subjectivity with .514 is in the middle of author's opinion and a possible factual information."
   ]
  },
  {
   "cell_type": "code",
   "execution_count": 47,
   "id": "75879452",
   "metadata": {},
   "outputs": [
    {
     "name": "stdout",
     "output_type": "stream",
     "text": [
      "[('smart', 14), ('paper', 11), ('speaker', 11), ('software', 10), ('speakers', 7)]\n"
     ]
    }
   ],
   "source": [
    "#3 Load the article text into a trained spaCy pipeline, and determine the 5 most frequent tokens\n",
    "import spacy\n",
    "from spacytextblob.spacytextblob import SpacyTextBlob\n",
    "from collections import Counter\n",
    "\n",
    "nlp = spacy.load('en_core_web_sm')\n",
    "nlp.add_pipe('spacytextblob')\n",
    "doc = nlp(article_element.get_text())\n",
    "\n",
    "def we_care_about(token):\n",
    "    return not (token.is_space or token.is_punct or token.is_stop)\n",
    "\n",
    "interesting_tokens = [token for token in doc if we_care_about(token)]\n",
    "word_freq = Counter(map(str,interesting_tokens))\n",
    "print(word_freq.most_common(5))"
   ]
  },
  {
   "cell_type": "code",
   "execution_count": 49,
   "id": "e2df2a06",
   "metadata": {},
   "outputs": [
    {
     "name": "stdout",
     "output_type": "stream",
     "text": [
      "[('speaker', 18), ('smart', 14), ('patient', 13), ('paper', 11), ('software', 10)]\n"
     ]
    }
   ],
   "source": [
    "#4 Load the article text into a trained spaCy pipeline, and determine the 5 most frequent lemmas\n",
    "interesting_lemmas = [token.lemma_ for token in doc if we_care_about(token)]\n",
    "lemma_freq = Counter(interesting_lemmas)\n",
    "print(lemma_freq.most_common(5))"
   ]
  },
  {
   "cell_type": "code",
   "execution_count": 53,
   "id": "bfef506c",
   "metadata": {},
   "outputs": [
    {
     "name": "stdout",
     "output_type": "stream",
     "text": [
      "sentence: Thanks to their sensitive microphone arrays, normally used to help localize voice commands from the user, the team proposes these affordable and increasingly popular smart home gadgets could lead a double life as unobtrusive life sign monitors. tokens: 1 words: 37 score: 0.02702702702702703\n",
      "sentence: Thanks to their sensitive microphone arrays, normally used to help localize voice commands from the user, the team proposes these affordable and increasingly popular smart home gadgets could lead a double life as unobtrusive life sign monitors. lemmas: 1 words: 37 score: 0.02702702702702703\n"
     ]
    }
   ],
   "source": [
    "#4 Make a list containing the scores (using tokens) of every sentence in the article, and plot a histogram\n",
    "interesting_token = list()\n",
    "for token, freq in word_freq.most_common(5):\n",
    "    interesting_token.append(token)\n",
    "\n",
    "interesting_lemma = set()\n",
    "for lemma, freq in lemma_freq.most_common(5):\n",
    "    interesting_lemma.add(lemma)\n",
    "\n",
    "sentences = list(doc.sents)\n",
    "stringlist = list()\n",
    "nmwrds = list()\n",
    "for sentence in sentences:\n",
    "    scount = 0\n",
    "    sent_str = str(sentence).replace('\\n','').replace('  ',' ')\n",
    "    stringlist.append(sent_str)\n",
    "    for token in sentence:\n",
    "        if not(token.is_space or token.is_punct):\n",
    "            scount +=1\n",
    "    nmwrds.append(scount)\n",
    "\n",
    "def score_sentence_by_token(sentence, interesting_token):\n",
    "    tcount = 0\n",
    "    for token in sentences[sentence]:\n",
    "        if token.text.lower() in interesting_token:\n",
    "            tcount += 1\n",
    "    if tcount == 0:\n",
    "        print('No interesting tokens')\n",
    "    tscore = tcount/nmwrds[sentence]\n",
    "    print('sentence:',stringlist[sentence], 'tokens:',tcount,'words:',nmwrds[sentence],'score:',tscore)\n",
    "\n",
    "def score_sentence_by_lemma(sentence, interesting_lemma):\n",
    "    lcount = 0\n",
    "    for token in sentences[1]:\n",
    "        if token.lemma_.lower() in interesting_lemma:\n",
    "            lcount += 1\n",
    "    if lcount == 0:\n",
    "        print('No interesting lemmas')\n",
    "    lscore = lcount/nmwrds[sentence]\n",
    "    print('sentence:',stringlist[sentence], 'lemmas:',lcount,'words:',nmwrds[sentence],'score:',lscore)\n",
    "    \n",
    "score_sentence_by_token(1, interesting_token)\n",
    "score_sentence_by_lemma(1, interesting_lemma)"
   ]
  },
  {
   "cell_type": "code",
   "execution_count": 58,
   "id": "5b205da0",
   "metadata": {},
   "outputs": [
    {
     "data": {
      "image/png": "[encoded data removed]",
      "text/plain": [
       "<Figure size 432x288 with 1 Axes>"
      ]
     },
     "metadata": {
      "needs_background": "light"
     },
     "output_type": "display_data"
    }
   ],
   "source": [
    "import matplotlib.pyplot as plt\n",
    "import numpy as np\n",
    "nmtkns = list()\n",
    "tscores = list()\n",
    "for sentence in sentences:\n",
    "    tcount = 0\n",
    "    for token in sentence:\n",
    "        if token.text.lower() in interesting_token:\n",
    "            tcount +=1\n",
    "    nmtkns.append(tcount)\n",
    "for i in nmwrds:\n",
    "    tscores = [t/w for t,w in zip(nmtkns,nmwrds)]\n",
    "\n",
    "t = np.array(tscores)  \n",
    "plt.hist(t)\n",
    "plt.xlabel('Scores')\n",
    "plt.ylabel('Frequency')\n",
    "plt.title('Tokens Histogram')\n",
    "plt.xticks(np.arange(0, 1, 0.1))\n",
    "plt.show()"
   ]
  },
  {
   "cell_type": "markdown",
   "id": "82cd16bb",
   "metadata": {},
   "source": [
    "# Most common range from 0.0 to 0.1"
   ]
  },
  {
   "cell_type": "code",
   "execution_count": 59,
   "id": "bf8bfe67",
   "metadata": {},
   "outputs": [
    {
     "data": {
      "image/png": "[encoded data removed]",
      "text/plain": [
       "<Figure size 432x288 with 1 Axes>"
      ]
     },
     "metadata": {
      "needs_background": "light"
     },
     "output_type": "display_data"
    }
   ],
   "source": [
    "# 6 Make a list containing the scores (using lemmas) of every sentence in the article, and plot a histogram with appropriate  titles and axis labels of the scores.\n",
    "\n",
    "\n",
    "import matplotlib.pyplot as plt\n",
    "import numpy as np\n",
    "\n",
    "nmlmas = list()\n",
    "lscores = list()\n",
    "for sentence in sentences:\n",
    "    lcount = 0\n",
    "    for token in sentence:\n",
    "        if token.lemma_.lower() in interesting_lemma:\n",
    "            lcount +=1\n",
    "    nmlmas.append(lcount)\n",
    "for i in nmlmas:\n",
    "    lscores = [t/w for t,w in zip(nmlmas,nmwrds)]\n",
    "\n",
    "l = np.array(lscores)  \n",
    "plt.hist(l)\n",
    "plt.xlabel('Scores')\n",
    "plt.ylabel('Frequency')\n",
    "plt.title('Lemmas Histogram')\n",
    "plt.xticks(np.arange(0, 1, 0.1))\n",
    "plt.show()"
   ]
  },
  {
   "cell_type": "markdown",
   "id": "e7362383",
   "metadata": {},
   "source": [
    "# Most common range 0.0 to 0.1"
   ]
  },
  {
   "cell_type": "code",
   "execution_count": null,
   "id": "51d6344b",
   "metadata": {},
   "outputs": [],
   "source": [
    "# 7 Using the histograms from questions 5 and 6, decide a \"cutoff\" score for tokens and lemmas such that fewer than half the sentences would have a score greater than the cutoff score. Record the scores in this Markdown cell"
   ]
  },
  {
   "cell_type": "code",
   "execution_count": 60,
   "id": "c3d2d5e4",
   "metadata": {},
   "outputs": [
    {
     "name": "stdout",
     "output_type": "stream",
     "text": [
      "0.058823529411764705\n",
      "0.08571428571428572\n"
     ]
    }
   ],
   "source": [
    "\n",
    "top_idx_t = np.argsort(x)[-10:]\n",
    "top_values_t = [t[i] for i in top_idx_t]\n",
    "print(min(top_values_t))\n",
    "\n",
    "top_idx_l = np.argsort(x)[-10:]\n",
    "top_values_l = [l[i] for i in top_idx_l]\n",
    "print(min(top_values_l))\n"
   ]
  },
  {
   "cell_type": "markdown",
   "id": "71ec1afd",
   "metadata": {},
   "source": [
    "# Cutoff Score (tokens): 0.058823529411764705\n",
    "# Cutoff Score (lemmas): 0.08571428571428572"
   ]
  },
  {
   "cell_type": "code",
   "execution_count": 69,
   "id": "b0049db0",
   "metadata": {},
   "outputs": [
    {
     "name": "stdout",
     "output_type": "stream",
     "text": [
      "Previous studies performed at UW in 2019 demonstrated how smart speaker technology could be used to detect cardiac arrest and monitor infant breathing. In fact, the paper explains that standard smart speakers are not particularly well suited to ultrasonic transmission or reception in the first place, as they have naturally been designed to prioritize human speech and music. Ideal placement for the smart speaker. This is obviously at odds with normal smart speaker placement. Unfortunately, despite such promising research, bringing this capability to consumer smart speakers simply isn’t possible right now. Taking The Long Way AroundEven if bureaucratic concerns keep the team’s software off of commercially available smart speakers, the research they’ve conducted is still extremely valuable. If commercial smart speakers aren’t a viable platform for this software, what then? Posted in Engineering, Featured, Interest, Medical Hacks, Original Art, SliderTagged active sonar, medical sensors, microphone array, smart speaker, ultrasonic, whitepaper \n"
     ]
    }
   ],
   "source": [
    "#8 Create a summary of the article by going through every sentence in the article and adding it to an (initially) empty list if its score (\n",
    "\n",
    "tsummary = list()\n",
    "tsumscores = list()\n",
    "\n",
    "for sentence in sentences:\n",
    "    tcount = 0\n",
    "    scount = 0\n",
    "    for token in sentence:\n",
    "        if not(token.is_space or token.is_punct):\n",
    "            scount += 1\n",
    "        if token.text.lower() in interesting_token:\n",
    "            tcount += 1\n",
    "    if tcount != 0:\n",
    "        tscore = tcount/scount\n",
    "        if tscore >= min(top_values_l):\n",
    "            sent_str = str(sentence).replace('\\n','').replace('  ',' ')\n",
    "            tsummary.append(sent_str)\n",
    "            tsumscores.append(tscore)\n",
    "\n",
    "print(' '.join(tsummary))"
   ]
  },
  {
   "cell_type": "code",
   "execution_count": 70,
   "id": "5e3728f3",
   "metadata": {},
   "outputs": [
    {
     "name": "stdout",
     "output_type": "stream",
     "text": [
      "Token summary polarity:  0.09747474747474748\n",
      "[0.08695652173913043, 0.08571428571428572, 0.3333333333333333, 0.2, 0.1111111111111111, 0.10344827586206896, 0.21428571428571427, 0.1]\n",
      "Token summary sentence count:  8\n"
     ]
    }
   ],
   "source": [
    "# 9 Print the polarity score of your summary you generated with the token scores \n",
    "doc = nlp(' '.join(tsummary))\n",
    "\n",
    "print(\"Token summary polarity: \", doc._.blob.polarity)\n",
    "print(tsumscores)\n",
    "print(\"Token summary sentence count: \", len(tsummary))"
   ]
  },
  {
   "cell_type": "code",
   "execution_count": 68,
   "id": "b00f428c",
   "metadata": {},
   "outputs": [
    {
     "name": "stdout",
     "output_type": "stream",
     "text": [
      "Previous studies performed at UW in 2019 demonstrated how smart speaker technology could be used to detect cardiac arrest and monitor infant breathing. This latest paper could be seen as the culmination of those earlier experiments: a single piece of software that could not just monitor the vitals of nearby patients, but actually detect a medical emergency. In fact, the paper explains that standard smart speakers are not particularly well suited to ultrasonic transmission or reception in the first place, as they have naturally been designed to prioritize human speech and music. For one thing, the smart speaker needs to be aimed at the patient’s chest and placed at a distance of 40 cm to 60 cm (15 in to 23 in). Ideal placement for the smart speaker. This is obviously at odds with normal smart speaker placement. Unfortunately, despite such promising research, bringing this capability to consumer smart speakers simply isn’t possible right now. Taking The Long Way AroundEven if bureaucratic concerns keep the team’s software off of commercially available smart speakers, the research they’ve conducted is still extremely valuable. If commercial smart speakers aren’t a viable platform for this software, what then? Posted in Engineering, Featured, Interest, Medical Hacks, Original Art, SliderTagged active sonar, medical sensors, microphone array, smart speaker, ultrasonic, whitepaper \n"
     ]
    }
   ],
   "source": [
    "# 10 Create a summary of the article by going through every sentence in the article \n",
    "\n",
    "lsummary = list()\n",
    "lsumscores = list()\n",
    "\n",
    "for sentence in sentences:\n",
    "    lcount = 0\n",
    "    scount = 0\n",
    "    for token in sentence:\n",
    "        if not(token.is_space or token.is_punct):\n",
    "            scount += 1\n",
    "        if token.lemma_.lower() in interesting_lemma:\n",
    "            lcount += 1\n",
    "    if lcount != 0:\n",
    "        lscore = lcount/scount\n",
    "        if lscore >= min(top_values_l):\n",
    "            sent_str = str(sentence).replace('\\n','').replace('  ',' ')\n",
    "            lsummary.append(sent_str)\n",
    "            lsumscores.append(lscore)\n",
    "\n",
    "print(' '.join(lsummary))\n"
   ]
  },
  {
   "cell_type": "code",
   "execution_count": 71,
   "id": "f56b5080",
   "metadata": {},
   "outputs": [
    {
     "name": "stdout",
     "output_type": "stream",
     "text": [
      "Lemma summary polarity:  0.09896214896214899\n",
      "[0.08695652173913043, 0.08823529411764706, 0.08571428571428572, 0.0967741935483871, 0.3333333333333333, 0.2, 0.1111111111111111, 0.10344827586206896, 0.21428571428571427, 0.1]\n",
      "Lemma summary sentence count:  10\n"
     ]
    }
   ],
   "source": [
    "#11 Print the polarity score of your summary you generated\n",
    "\n",
    "\n",
    "doc = nlp(' '.join(lsummary))\n",
    "\n",
    "print(\"Lemma summary polarity: \", doc._.blob.polarity)\n",
    "print(lsumscores)\n",
    "print(\"Lemma summary sentence count: \", len(lsummary))\n"
   ]
  },
  {
   "cell_type": "code",
   "execution_count": null,
   "id": "7973d459",
   "metadata": {},
   "outputs": [],
   "source": [
    "#12 Compare your polarity scores of your summaries to the polarity scores of the initial article. Is there a difference? Why do you think that may or may not be?. Answer in this Markdown cell.\n",
    "\n"
   ]
  },
  {
   "cell_type": "markdown",
   "id": "eb2d644f",
   "metadata": {},
   "source": [
    "# 12 Polarity of tokenes and lemma summaries are less than orginal article,  original articles reached .145 versus lemma and token are in the range of .098 and .097.  Values are so low that may not be significant, but as we reduced the number od sentences and tokenize polarity keep moving to the center values of the actual polarity range between -1 and =+1.\n"
   ]
  },
  {
   "cell_type": "code",
   "execution_count": null,
   "id": "39229029",
   "metadata": {},
   "outputs": [],
   "source": [
    "#13 Based on your reading of the original article, which summary do you think is better (if there's a difference). Why do you think this might be?"
   ]
  },
  {
   "cell_type": "markdown",
   "id": "1355f23d",
   "metadata": {},
   "source": [
    "#13 The summaries are pretty much the same, perhaps for reserach purposes a more detailed summary will be more beneficial to determine the applicability and usefulness of the article for a researcher."
   ]
  }
 ],
 "metadata": {
  "kernelspec": {
   "display_name": "Python 3 (ipykernel)",
   "language": "python",
   "name": "python3"
  },
  "language_info": {
   "codemirror_mode": {
    "name": "ipython",
    "version": 3
   },
   "file_extension": ".py",
   "mimetype": "text/x-python",
   "name": "python",
   "nbconvert_exporter": "python",
   "pygments_lexer": "ipython3",
   "version": "3.9.12"
  }
 },
 "nbformat": 4,
 "nbformat_minor": 5
}
